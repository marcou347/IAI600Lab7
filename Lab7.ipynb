{
 "cells": [
  {
   "cell_type": "markdown",
   "id": "bfc0d35c",
   "metadata": {},
   "source": [
    "# Unsupervised Learning Using K-Means Clustering on California Housing Data"
   ]
  },
  {
   "cell_type": "markdown",
   "id": "68cf4add",
   "metadata": {},
   "source": [
    "In this assignment, we will utilize the MNIST dataset to develop a deep Multi-Layer Perceptron (MLP) mode. Our goal is to apply the Keras Tuner to find the best hyperparameter to optimize the MLP model's performance, aiming to achieve a test accuracy of at least 98%. \n",
    "\n",
    "In this notebook, we will:\n",
    "\n",
    "1. Train a Deep MLP Model on the MNIST Dataset: Set up a deep MLP model for classifying handwritten digits from the MNIST dataset. \n",
    "2. Hyperparameter Tuning with Keras Tuner: Use Keras Tuner to perform hyperparameter tuning on the model. Search for optimal values of key hyperparameters, such as, number of Hidden Layers and units in a hidden layer, learning rate, and batch size. Configure Keras Tuner to use Random Search to find the best hyperparameter values.\n",
    "3. Analyze the Tuning Results: Once tuning is complete, evaluate the model’s performance with the best-found hyperparameters on the test set. Present results, including metrics such as accuracy, training time, and convergence rate. Discuss the chosen hyperparameters and explain how they contributed to achieving high accuracy on the MNIST dataset.\n",
    "4. Comparison with Baseline Model (Optional) Optionally, compare the tuned MLP model's accuracy with the models we used for classification in our early labs on classification for MNIST dataset. Analyze and discuss the improvement in the performance.\n"
   ]
  },
  {
   "cell_type": "markdown",
   "id": "f6f456f9",
   "metadata": {},
   "source": [
    "# Preparation"
   ]
  },
  {
   "cell_type": "code",
   "execution_count": 61,
   "id": "5380ee86",
   "metadata": {},
   "outputs": [],
   "source": [
    "# Python ≥3.5 is required\n",
    "import sys\n",
    "assert sys.version_info >= (3, 5)\n",
    "\n",
    "# Scikit-Learn ≥0.20 is required\n",
    "import sklearn\n",
    "assert sklearn.__version__ >= \"0.20\"\n",
    "\n",
    "try:\n",
    "    # %tensorflow_version only exists in Colab.\n",
    "    %tensorflow_version 2.x\n",
    "except Exception:\n",
    "    pass\n",
    "\n",
    "# TensorFlow ≥2.0 is required\n",
    "import tensorflow as tf\n",
    "assert tf.__version__ >= \"2.0\"\n",
    "\n",
    "# Common imports\n",
    "import numpy as np\n",
    "import os\n",
    "\n",
    "# to make this notebook's output stable across runs\n",
    "np.random.seed(42)\n",
    "\n",
    "# To plot pretty figures\n",
    "%matplotlib inline\n",
    "import matplotlib as mpl\n",
    "import matplotlib.pyplot as plt\n",
    "mpl.rc('axes', labelsize=14)\n",
    "mpl.rc('xtick', labelsize=12)\n",
    "mpl.rc('ytick', labelsize=12)\n",
    "\n",
    "# Where to save the figures\n",
    "PROJECT_ROOT_DIR = \".\"\n",
    "CHAPTER_ID = \"ann\"\n",
    "IMAGES_PATH = os.path.join(PROJECT_ROOT_DIR, \"images\", CHAPTER_ID)\n",
    "os.makedirs(IMAGES_PATH, exist_ok=True)\n",
    "\n",
    "def save_fig(fig_id, tight_layout=True, fig_extension=\"png\", resolution=300):\n",
    "    path = os.path.join(IMAGES_PATH, fig_id + \".\" + fig_extension)\n",
    "    print(\"Saving figure\", fig_id)\n",
    "    if tight_layout:\n",
    "        plt.tight_layout()\n",
    "    plt.savefig(path, format=fig_extension, dpi=resolution)\n"
   ]
  },
  {
   "cell_type": "markdown",
   "id": "03be6101",
   "metadata": {},
   "source": [
    "# Prepare the MNIST dataset"
   ]
  },
  {
   "cell_type": "code",
   "execution_count": 62,
   "id": "6a0e1cfa",
   "metadata": {},
   "outputs": [],
   "source": [
    "from tensorflow import keras\n",
    "# MNIST data is loaded, normalized, and split into training, validation, and test sets\n",
    "(X_train_full, y_train_full), (X_test, y_test) = keras.datasets.mnist.load_data()\n",
    "\n",
    "X_train_full = X_train_full / 255.0\n",
    "\n",
    "X_test = X_test / 255.0\n",
    "# (10000, 28, 28)\n",
    "\n",
    "X_valid, X_train = X_train_full[:5000], X_train_full[5000:]\n",
    "# (5000, 28, 28), (55000, 28, 28)\n",
    "\n",
    "y_valid, y_train = y_train_full[:5000], y_train_full[5000:]\n",
    "# (5000,), (55000,)"
   ]
  },
  {
   "cell_type": "markdown",
   "id": "50c3d5d9",
   "metadata": {},
   "source": [
    "# Train a Deep MLP Model on the MNIST Dataset:"
   ]
  },
  {
   "cell_type": "code",
   "execution_count": 63,
   "id": "e742909c",
   "metadata": {},
   "outputs": [],
   "source": [
    "keras.backend.clear_session()\n",
    "tf.random.set_seed(42)\n",
    "np.random.seed(42)"
   ]
  },
  {
   "cell_type": "code",
   "execution_count": 64,
   "id": "646ed1f3",
   "metadata": {},
   "outputs": [],
   "source": [
    "model = keras.models.Sequential([\n",
    "    keras.layers.Flatten(input_shape=[28, 28]),\n",
    "    keras.layers.Dense(300, activation=\"relu\"),\n",
    "    keras.layers.Dense(100, activation=\"relu\"),\n",
    "    keras.layers.Dense(10, activation=\"softmax\")\n",
    "])"
   ]
  },
  {
   "cell_type": "code",
   "execution_count": 65,
   "id": "f4b684b6",
   "metadata": {},
   "outputs": [],
   "source": [
    "# We will start with a small learning rate of 1e-3\n",
    "# and grow it by 0.5% at each iteration:\n",
    "model.compile(loss=\"sparse_categorical_crossentropy\",\n",
    "              optimizer=keras.optimizers.SGD(learning_rate=1e-3),\n",
    "              metrics=[\"accuracy\"])"
   ]
  },
  {
   "cell_type": "code",
   "execution_count": 66,
   "id": "55883a13",
   "metadata": {},
   "outputs": [
    {
     "data": {
      "text/plain": [
       "'.\\\\my_mnist_logs\\\\run_001'"
      ]
     },
     "execution_count": 66,
     "metadata": {},
     "output_type": "execute_result"
    }
   ],
   "source": [
    "run_index = 1 # increment this at every run\n",
    "run_logdir = os.path.join(os.curdir, \"my_mnist_logs\", \"run_{:03d}\".format(run_index))\n",
    "run_logdir"
   ]
  },
  {
   "cell_type": "code",
   "execution_count": null,
   "id": "aac696b0",
   "metadata": {},
   "outputs": [
    {
     "name": "stdout",
     "output_type": "stream",
     "text": [
      "Epoch 1/20\n",
      "1719/1719 [==============================] - 8s 5ms/step - loss: 0.3542 - accuracy: 0.9025 - val_loss: 0.3277 - val_accuracy: 0.9122\n",
      "Epoch 2/20\n",
      "1719/1719 [==============================] - 6s 4ms/step - loss: 0.3382 - accuracy: 0.9056 - val_loss: 0.3136 - val_accuracy: 0.9138\n",
      "Epoch 3/20\n",
      "1719/1719 [==============================] - 6s 4ms/step - loss: 0.3248 - accuracy: 0.9085 - val_loss: 0.3018 - val_accuracy: 0.9198\n",
      "Epoch 4/20\n",
      "1719/1719 [==============================] - 9s 5ms/step - loss: 0.3134 - accuracy: 0.9116 - val_loss: 0.2917 - val_accuracy: 0.9202\n",
      "Epoch 5/20\n",
      "1719/1719 [==============================] - 8s 5ms/step - loss: 0.3035 - accuracy: 0.9142 - val_loss: 0.2828 - val_accuracy: 0.9216\n",
      "Epoch 6/20\n",
      "1719/1719 [==============================] - 8s 5ms/step - loss: 0.2947 - accuracy: 0.9167 - val_loss: 0.2749 - val_accuracy: 0.9240\n",
      "Epoch 7/20\n",
      "1719/1719 [==============================] - 8s 4ms/step - loss: 0.2867 - accuracy: 0.9184 - val_loss: 0.2674 - val_accuracy: 0.9270\n",
      "Epoch 8/20\n",
      "1719/1719 [==============================] - 6s 4ms/step - loss: 0.2795 - accuracy: 0.9209 - val_loss: 0.2609 - val_accuracy: 0.9294\n",
      "Epoch 9/20\n",
      "1719/1719 [==============================] - 6s 4ms/step - loss: 0.2728 - accuracy: 0.9228 - val_loss: 0.2552 - val_accuracy: 0.9292\n",
      "Epoch 10/20\n",
      "1719/1719 [==============================] - 7s 4ms/step - loss: 0.2666 - accuracy: 0.9251 - val_loss: 0.2497 - val_accuracy: 0.9302\n",
      "Epoch 11/20\n",
      "1719/1719 [==============================] - 6s 4ms/step - loss: 0.2608 - accuracy: 0.9262 - val_loss: 0.2435 - val_accuracy: 0.9348\n",
      "Epoch 12/20\n",
      "1719/1719 [==============================] - 8s 5ms/step - loss: 0.2553 - accuracy: 0.9281 - val_loss: 0.2386 - val_accuracy: 0.9348\n",
      "Epoch 13/20\n",
      "1719/1719 [==============================] - 7s 4ms/step - loss: 0.2502 - accuracy: 0.9298 - val_loss: 0.2342 - val_accuracy: 0.9368\n",
      "Epoch 14/20\n",
      "1719/1719 [==============================] - 7s 4ms/step - loss: 0.2452 - accuracy: 0.9308 - val_loss: 0.2306 - val_accuracy: 0.9386\n",
      "Epoch 15/20\n",
      "1719/1719 [==============================] - 7s 4ms/step - loss: 0.2406 - accuracy: 0.9329 - val_loss: 0.2258 - val_accuracy: 0.9370\n",
      "Epoch 16/20\n",
      "1719/1719 [==============================] - 7s 4ms/step - loss: 0.2360 - accuracy: 0.9339 - val_loss: 0.2220 - val_accuracy: 0.9384\n",
      "Epoch 17/20\n",
      "1719/1719 [==============================] - 7s 4ms/step - loss: 0.2319 - accuracy: 0.9349 - val_loss: 0.2177 - val_accuracy: 0.9402\n",
      "Epoch 18/20\n",
      "1719/1719 [==============================] - 7s 4ms/step - loss: 0.2278 - accuracy: 0.9362 - val_loss: 0.2147 - val_accuracy: 0.9400\n",
      "Epoch 19/20\n",
      "1719/1719 [==============================] - 7s 4ms/step - loss: 0.2239 - accuracy: 0.9371 - val_loss: 0.2110 - val_accuracy: 0.9412\n",
      "Epoch 20/20\n",
      "1719/1719 [==============================] - 7s 4ms/step - loss: 0.2200 - accuracy: 0.9384 - val_loss: 0.2087 - val_accuracy: 0.9428\n"
     ]
    }
   ],
   "source": [
    "early_stopping_cb = keras.callbacks.EarlyStopping(patience=20)\n",
    "checkpoint_cb = keras.callbacks.ModelCheckpoint(\"my_mnist_model.h5\", save_best_only=True)\n",
    "tensorboard_cb = keras.callbacks.TensorBoard(run_logdir)\n",
    "\n",
    "history = model.fit(X_train, y_train, epochs=100,\n",
    "                    validation_data=(X_valid, y_valid),\n",
    "                    callbacks=[checkpoint_cb, early_stopping_cb, tensorboard_cb])"
   ]
  },
  {
   "cell_type": "code",
   "execution_count": null,
   "id": "6ce58539",
   "metadata": {},
   "outputs": [
    {
     "name": "stdout",
     "output_type": "stream",
     "text": [
      "313/313 [==============================] - 1s 3ms/step - loss: 0.4346 - accuracy: 0.8879\n",
      "Test accuracy: 0.8879\n"
     ]
    }
   ],
   "source": [
    "test_loss, test_accuracy = model.evaluate(X_test, y_test)\n",
    "print(f\"Test accuracy: {test_accuracy:.4f}\")"
   ]
  },
  {
   "cell_type": "code",
   "execution_count": 70,
   "id": "08a3b207",
   "metadata": {},
   "outputs": [
    {
     "name": "stdout",
     "output_type": "stream",
     "text": [
      "313/313 [==============================] - 1s 2ms/step - loss: 0.2169 - accuracy: 0.9383\n"
     ]
    },
    {
     "data": {
      "text/plain": [
       "[0.21692736446857452, 0.9383000135421753]"
      ]
     },
     "execution_count": 70,
     "metadata": {},
     "output_type": "execute_result"
    }
   ],
   "source": [
    "model = keras.models.load_model(\"my_mnist_model.h5\") # rollback to best model\n",
    "model.evaluate(X_test, y_test)"
   ]
  },
  {
   "cell_type": "code",
   "execution_count": 69,
   "id": "761aef70",
   "metadata": {},
   "outputs": [
    {
     "name": "stderr",
     "output_type": "stream",
     "text": [
      "UsageError: Line magic function `%tensorboard` not found.\n"
     ]
    }
   ],
   "source": [
    "%tensorboard --logdir=./my_mnist_logs --port=6006"
   ]
  },
  {
   "cell_type": "code",
   "execution_count": null,
   "id": "36d7896b",
   "metadata": {},
   "outputs": [
    {
     "data": {
      "text/plain": [
       "Text(0, 0.5, 'Loss')"
      ]
     },
     "execution_count": 40,
     "metadata": {},
     "output_type": "execute_result"
    },
    {
     "data": {
      "image/png": "[encoded data removed]",
      "text/plain": [
       "<Figure size 640x480 with 1 Axes>"
      ]
     },
     "metadata": {},
     "output_type": "display_data"
    }
   ],
   "source": [
    "plt.plot(expon_lr.rates, expon_lr.losses)\n",
    "plt.gca().set_xscale('log')\n",
    "plt.hlines(min(expon_lr.losses), min(expon_lr.rates), max(expon_lr.rates))\n",
    "plt.axis([min(expon_lr.rates), max(expon_lr.rates), 0, expon_lr.losses[0]])\n",
    "plt.grid()\n",
    "plt.xlabel(\"Learning rate\")\n",
    "plt.ylabel(\"Loss\")"
   ]
  },
  {
   "cell_type": "markdown",
   "id": "74300601",
   "metadata": {},
   "source": [
    "# Hyperparameter Tuning with Keras Tuner: "
   ]
  },
  {
   "cell_type": "markdown",
   "id": "03142551",
   "metadata": {},
   "source": [
    "# Analyze the Tuning Results:"
   ]
  },
  {
   "cell_type": "markdown",
   "id": "56f2e8ac",
   "metadata": {},
   "source": [
    "# Comparison with Baseline Model (Optional)"
   ]
  }
 ],
 "metadata": {
  "kernelspec": {
   "display_name": "Python 3",
   "language": "python",
   "name": "python3"
  },
  "language_info": {
   "codemirror_mode": {
    "name": "ipython",
    "version": 3
   },
   "file_extension": ".py",
   "mimetype": "text/x-python",
   "name": "python",
   "nbconvert_exporter": "python",
   "pygments_lexer": "ipython3",
   "version": "3.8.0"
  }
 },
 "nbformat": 4,
 "nbformat_minor": 5
}
