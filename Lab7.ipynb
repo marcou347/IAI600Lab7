{
 "cells": [
  {
   "cell_type": "markdown",
   "id": "bfc0d35c",
   "metadata": {},
   "source": [
    "# Unsupervised Learning Using K-Means Clustering on California Housing Data"
   ]
  },
  {
   "cell_type": "markdown",
   "id": "68cf4add",
   "metadata": {},
   "source": [
    "In this assignment, we will utilize the MNIST dataset to develop a deep Multi-Layer Perceptron (MLP) mode. Our goal is to apply the Keras Tuner to find the best hyperparameter to optimize the MLP model's performance, aiming to achieve a test accuracy of at least 98%. \n",
    "\n",
    "In this notebook, we will:\n",
    "\n",
    "1. Train a Deep MLP Model on the MNIST Dataset: Set up a deep MLP model for classifying handwritten digits from the MNIST dataset. \n",
    "2. Hyperparameter Tuning with Keras Tuner: Use Keras Tuner to perform hyperparameter tuning on the model. Search for optimal values of key hyperparameters, such as, number of Hidden Layers and units in a hidden layer, learning rate, and batch size. Configure Keras Tuner to use Random Search to find the best hyperparameter values.\n",
    "3. Analyze the Tuning Results: Once tuning is complete, evaluate the model’s performance with the best-found hyperparameters on the test set. Present results, including metrics such as accuracy, training time, and convergence rate. Discuss the chosen hyperparameters and explain how they contributed to achieving high accuracy on the MNIST dataset.\n",
    "4. Comparison with Baseline Model (Optional) Optionally, compare the tuned MLP model's accuracy with the models we used for classification in our early labs on classification for MNIST dataset. Analyze and discuss the improvement in the performance.\n"
   ]
  },
  {
   "cell_type": "markdown",
   "id": "f6f456f9",
   "metadata": {},
   "source": [
    "# Preparation"
   ]
  },
  {
   "cell_type": "code",
   "execution_count": 1,
   "id": "5380ee86",
   "metadata": {},
   "outputs": [],
   "source": [
    "# Python ≥3.5 is required\n",
    "import sys\n",
    "assert sys.version_info >= (3, 5)\n",
    "\n",
    "# Scikit-Learn ≥0.20 is required\n",
    "import sklearn\n",
    "assert sklearn.__version__ >= \"0.20\"\n",
    "\n",
    "try:\n",
    "    # %tensorflow_version only exists in Colab.\n",
    "    %tensorflow_version 2.x\n",
    "except Exception:\n",
    "    pass\n",
    "\n",
    "# TensorFlow ≥2.0 is required\n",
    "import tensorflow as tf\n",
    "from tensorflow import keras\n",
    "assert tf.__version__ >= \"2.0\"\n",
    "\n",
    "# Common imports\n",
    "import numpy as np\n",
    "import os\n",
    "\n",
    "# to make this notebook's output stable across runs\n",
    "np.random.seed(42)\n",
    "\n",
    "# To plot pretty figures\n",
    "%matplotlib inline\n",
    "import matplotlib as mpl\n",
    "import matplotlib.pyplot as plt\n",
    "mpl.rc('axes', labelsize=14)\n",
    "mpl.rc('xtick', labelsize=12)\n",
    "mpl.rc('ytick', labelsize=12)\n",
    "\n",
    "# Where to save the figures\n",
    "PROJECT_ROOT_DIR = \".\"\n",
    "CHAPTER_ID = \"ann\"\n",
    "IMAGES_PATH = os.path.join(PROJECT_ROOT_DIR, \"images\", CHAPTER_ID)\n",
    "os.makedirs(IMAGES_PATH, exist_ok=True)\n",
    "\n",
    "def save_fig(fig_id, tight_layout=True, fig_extension=\"png\", resolution=300):\n",
    "    path = os.path.join(IMAGES_PATH, fig_id + \".\" + fig_extension)\n",
    "    print(\"Saving figure\", fig_id)\n",
    "    if tight_layout:\n",
    "        plt.tight_layout()\n",
    "    plt.savefig(path, format=fig_extension, dpi=resolution)\n"
   ]
  },
  {
   "cell_type": "markdown",
   "id": "03be6101",
   "metadata": {},
   "source": [
    "# Prepare the MNIST dataset"
   ]
  },
  {
   "cell_type": "code",
   "execution_count": 2,
   "id": "6a0e1cfa",
   "metadata": {},
   "outputs": [],
   "source": [
    "# MNIST data is loaded, normalized, and split into training, validation, and test sets\n",
    "(X_train_full, y_train_full), (X_test, y_test) = keras.datasets.mnist.load_data()\n",
    "\n",
    "X_train_full = X_train_full / 255.0\n",
    "\n",
    "X_test = X_test / 255.0\n",
    "# (10000, 28, 28)\n",
    "\n",
    "X_valid, X_train = X_train_full[:5000], X_train_full[5000:]\n",
    "# (5000, 28, 28), (55000, 28, 28)\n",
    "\n",
    "y_valid, y_train = y_train_full[:5000], y_train_full[5000:]\n",
    "# (5000,), (55000,)"
   ]
  },
  {
   "cell_type": "markdown",
   "id": "50c3d5d9",
   "metadata": {},
   "source": [
    "# Train a Deep MLP Model on the MNIST Dataset:"
   ]
  },
  {
   "cell_type": "code",
   "execution_count": 3,
   "id": "e742909c",
   "metadata": {},
   "outputs": [],
   "source": [
    "keras.backend.clear_session()\n",
    "tf.random.set_seed(42)\n",
    "np.random.seed(42)"
   ]
  },
  {
   "cell_type": "code",
   "execution_count": null,
   "id": "646ed1f3",
   "metadata": {},
   "outputs": [],
   "source": [
    "model = keras.models.Sequential([\n",
    "    keras.layers.Flatten(input_shape=[28, 28]),\n",
    "    keras.layers.Dense(512, activation=\"relu\"),\n",
    "    keras.layers.Dropout(0.2),\n",
    "    keras.layers.Dense(256, activation=\"relu\"),\n",
    "    keras.layers.Dropout(0.2),\n",
    "    keras.layers.Dense(128, activation=\"relu\"),\n",
    "    keras.layers.Dense(10, activation=\"softmax\")\n",
    "])"
   ]
  },
  {
   "cell_type": "code",
   "execution_count": 34,
   "id": "3402d3b3",
   "metadata": {},
   "outputs": [
    {
     "name": "stdout",
     "output_type": "stream",
     "text": [
      "Model: \"sequential_3\"\n",
      "_________________________________________________________________\n",
      " Layer (type)                Output Shape              Param #   \n",
      "=================================================================\n",
      " flatten_3 (Flatten)         (None, 784)               0         \n",
      "                                                                 \n",
      " dense_9 (Dense)             (None, 512)               401920    \n",
      "                                                                 \n",
      " dropout_6 (Dropout)         (None, 512)               0         \n",
      "                                                                 \n",
      " dense_10 (Dense)            (None, 256)               131328    \n",
      "                                                                 \n",
      " dropout_7 (Dropout)         (None, 256)               0         \n",
      "                                                                 \n",
      " dense_11 (Dense)            (None, 128)               32896     \n",
      "                                                                 \n",
      " dense_12 (Dense)            (None, 10)                1290      \n",
      "                                                                 \n",
      "=================================================================\n",
      "Total params: 567434 (2.16 MB)\n",
      "Trainable params: 567434 (2.16 MB)\n",
      "Non-trainable params: 0 (0.00 Byte)\n",
      "_________________________________________________________________\n"
     ]
    }
   ],
   "source": [
    "model.summary()"
   ]
  },
  {
   "cell_type": "code",
   "execution_count": null,
   "id": "8ae04114",
   "metadata": {},
   "outputs": [],
   "source": [
    "model.compile(loss=\"sparse_categorical_crossentropy\",\n",
    "              optimizer=keras.optimizers.SGD(learning_rate=3e-1),\n",
    "              metrics=[\"accuracy\"])"
   ]
  },
  {
   "cell_type": "code",
   "execution_count": 36,
   "id": "aac696b0",
   "metadata": {},
   "outputs": [
    {
     "name": "stdout",
     "output_type": "stream",
     "text": [
      "Epoch 1/30\n",
      "1718/1719 [============================>.] - ETA: 0s - loss: 0.3139 - accuracy: 0.9038"
     ]
    },
    {
     "name": "stderr",
     "output_type": "stream",
     "text": [
      "c:\\Users\\marco\\AppData\\Local\\Programs\\Python\\Python38\\lib\\site-packages\\keras\\src\\engine\\training.py:3000: UserWarning: You are saving your model as an HDF5 file via `model.save()`. This file format is considered legacy. We recommend using instead the native Keras format, e.g. `model.save('my_model.keras')`.\n",
      "  saving_api.save_model(\n"
     ]
    },
    {
     "name": "stdout",
     "output_type": "stream",
     "text": [
      "1719/1719 [==============================] - 14s 8ms/step - loss: 0.3138 - accuracy: 0.9039 - val_loss: 0.1238 - val_accuracy: 0.9634\n",
      "Epoch 2/30\n",
      "1719/1719 [==============================] - 16s 9ms/step - loss: 0.1390 - accuracy: 0.9584 - val_loss: 0.0936 - val_accuracy: 0.9746\n",
      "Epoch 3/30\n",
      "1719/1719 [==============================] - 13s 7ms/step - loss: 0.1058 - accuracy: 0.9680 - val_loss: 0.0790 - val_accuracy: 0.9770\n",
      "Epoch 4/30\n",
      "1719/1719 [==============================] - 13s 8ms/step - loss: 0.0886 - accuracy: 0.9726 - val_loss: 0.0788 - val_accuracy: 0.9778\n",
      "Epoch 5/30\n",
      "1719/1719 [==============================] - 13s 8ms/step - loss: 0.0723 - accuracy: 0.9778 - val_loss: 0.0729 - val_accuracy: 0.9778\n",
      "Epoch 6/30\n",
      "1719/1719 [==============================] - 15s 8ms/step - loss: 0.0621 - accuracy: 0.9809 - val_loss: 0.0674 - val_accuracy: 0.9814\n",
      "Epoch 7/30\n",
      "1719/1719 [==============================] - 15s 9ms/step - loss: 0.0574 - accuracy: 0.9821 - val_loss: 0.0704 - val_accuracy: 0.9798\n",
      "Epoch 8/30\n",
      "1719/1719 [==============================] - 15s 9ms/step - loss: 0.0520 - accuracy: 0.9833 - val_loss: 0.0706 - val_accuracy: 0.9822\n",
      "Epoch 9/30\n",
      "1719/1719 [==============================] - 13s 8ms/step - loss: 0.0460 - accuracy: 0.9857 - val_loss: 0.0695 - val_accuracy: 0.9814\n",
      "Epoch 10/30\n",
      "1719/1719 [==============================] - 14s 8ms/step - loss: 0.0419 - accuracy: 0.9866 - val_loss: 0.0647 - val_accuracy: 0.9836\n",
      "Epoch 11/30\n",
      "1719/1719 [==============================] - 15s 9ms/step - loss: 0.0383 - accuracy: 0.9875 - val_loss: 0.0760 - val_accuracy: 0.9818\n",
      "Epoch 12/30\n",
      "1719/1719 [==============================] - 17s 10ms/step - loss: 0.0382 - accuracy: 0.9876 - val_loss: 0.0700 - val_accuracy: 0.9826\n",
      "Epoch 13/30\n",
      "1719/1719 [==============================] - 14s 8ms/step - loss: 0.0330 - accuracy: 0.9897 - val_loss: 0.0791 - val_accuracy: 0.9810\n",
      "Epoch 14/30\n",
      "1719/1719 [==============================] - 17s 10ms/step - loss: 0.0334 - accuracy: 0.9892 - val_loss: 0.0813 - val_accuracy: 0.9808\n",
      "Epoch 15/30\n",
      "1719/1719 [==============================] - 16s 9ms/step - loss: 0.0308 - accuracy: 0.9901 - val_loss: 0.0795 - val_accuracy: 0.9818\n",
      "Epoch 16/30\n",
      "1719/1719 [==============================] - 15s 9ms/step - loss: 0.0289 - accuracy: 0.9910 - val_loss: 0.0756 - val_accuracy: 0.9812\n",
      "Epoch 17/30\n",
      "1719/1719 [==============================] - 14s 8ms/step - loss: 0.0254 - accuracy: 0.9921 - val_loss: 0.0836 - val_accuracy: 0.9804\n",
      "Epoch 18/30\n",
      "1719/1719 [==============================] - 16s 9ms/step - loss: 0.0265 - accuracy: 0.9916 - val_loss: 0.0690 - val_accuracy: 0.9828\n",
      "Epoch 19/30\n",
      "1719/1719 [==============================] - 13s 7ms/step - loss: 0.0246 - accuracy: 0.9922 - val_loss: 0.0850 - val_accuracy: 0.9822\n",
      "Epoch 20/30\n",
      "1719/1719 [==============================] - 13s 8ms/step - loss: 0.0207 - accuracy: 0.9937 - val_loss: 0.0748 - val_accuracy: 0.9818\n",
      "Epoch 21/30\n",
      "1719/1719 [==============================] - 16s 9ms/step - loss: 0.0218 - accuracy: 0.9925 - val_loss: 0.0713 - val_accuracy: 0.9850\n",
      "Epoch 22/30\n",
      "1719/1719 [==============================] - 16s 9ms/step - loss: 0.0190 - accuracy: 0.9939 - val_loss: 0.0708 - val_accuracy: 0.9842\n",
      "Epoch 23/30\n",
      "1719/1719 [==============================] - 20s 12ms/step - loss: 0.0202 - accuracy: 0.9937 - val_loss: 0.0856 - val_accuracy: 0.9838\n",
      "Epoch 24/30\n",
      "1719/1719 [==============================] - 13s 7ms/step - loss: 0.0201 - accuracy: 0.9939 - val_loss: 0.0843 - val_accuracy: 0.9830\n",
      "Epoch 25/30\n",
      "1719/1719 [==============================] - 12s 7ms/step - loss: 0.0214 - accuracy: 0.9935 - val_loss: 0.0706 - val_accuracy: 0.9840\n",
      "Epoch 26/30\n",
      "1719/1719 [==============================] - 12s 7ms/step - loss: 0.0164 - accuracy: 0.9950 - val_loss: 0.0860 - val_accuracy: 0.9838\n",
      "Epoch 27/30\n",
      "1719/1719 [==============================] - 13s 7ms/step - loss: 0.0145 - accuracy: 0.9955 - val_loss: 0.0817 - val_accuracy: 0.9838\n",
      "Epoch 28/30\n",
      "1719/1719 [==============================] - 15s 9ms/step - loss: 0.0178 - accuracy: 0.9947 - val_loss: 0.0881 - val_accuracy: 0.9834\n",
      "Epoch 29/30\n",
      "1719/1719 [==============================] - 14s 8ms/step - loss: 0.0185 - accuracy: 0.9938 - val_loss: 0.0742 - val_accuracy: 0.9838\n",
      "Epoch 30/30\n",
      "1719/1719 [==============================] - 14s 8ms/step - loss: 0.0149 - accuracy: 0.9954 - val_loss: 0.0799 - val_accuracy: 0.9840\n"
     ]
    }
   ],
   "source": [
    "early_stopping_cb = keras.callbacks.EarlyStopping(patience=20)\n",
    "checkpoint_cb = keras.callbacks.ModelCheckpoint(\"my_mnist_model.h5\", save_best_only=True)\n",
    "\n",
    "history = model.fit(\n",
    "    X_train, y_train, \n",
    "    epochs=30,\n",
    "    validation_data=(X_valid, y_valid),\n",
    "    callbacks=[checkpoint_cb, early_stopping_cb]\n",
    ")"
   ]
  },
  {
   "cell_type": "code",
   "execution_count": 37,
   "id": "08a3b207",
   "metadata": {},
   "outputs": [
    {
     "name": "stdout",
     "output_type": "stream",
     "text": [
      "313/313 [==============================] - 2s 5ms/step - loss: 0.0653 - accuracy: 0.9843\n",
      "Test accuracy: 98.43%\n",
      "Test loss: 0.06528\n"
     ]
    }
   ],
   "source": [
    "model = keras.models.load_model(\"my_mnist_model.h5\")\n",
    "test_loss, test_accuracy = model.evaluate(X_test, y_test)\n",
    "# Test set accuracy of at least 98%\n",
    "print(f\"Test accuracy: {test_accuracy*100:.2f}%\")\n",
    "print(f\"Test loss: {test_loss:.5f}\")"
   ]
  },
  {
   "cell_type": "markdown",
   "id": "74300601",
   "metadata": {},
   "source": [
    "# Hyperparameter Tuning with Keras Tuner: "
   ]
  },
  {
   "cell_type": "code",
   "execution_count": 12,
   "id": "83c5f8d2",
   "metadata": {},
   "outputs": [],
   "source": [
    "from keras_tuner import HyperParameters\n",
    "from keras_tuner.tuners import RandomSearch\n",
    "import keras\n",
    "\n",
    "def build_model(hp):\n",
    "    model = keras.models.Sequential()\n",
    "    model.add(keras.layers.Flatten(input_shape=[28, 28]))\n",
    "    \n",
    "    for i in range(hp.Int('num_layers', 1, 2)):  \n",
    "        model.add(keras.layers.Dense(\n",
    "            units=hp.Int('units_' + str(i), min_value=128, max_value=512, step=64),\n",
    "            activation='relu'\n",
    "        ))\n",
    "        \n",
    "        model.add(keras.layers.Dropout(rate=hp.Float('dropout_' + str(i), 0.1, 0.3, step=0.1)))\n",
    "\n",
    "    model.add(keras.layers.Dense(10, activation='softmax'))\n",
    "    \n",
    "    model.compile(\n",
    "        optimizer=keras.optimizers.SGD(\n",
    "            learning_rate=hp.Float('learning_rate', 3e-3, 3e-0, sampling='log')\n",
    "        ),\n",
    "        loss='sparse_categorical_crossentropy',\n",
    "        metrics=['accuracy']\n",
    "    )\n",
    "    return model"
   ]
  },
  {
   "cell_type": "code",
   "execution_count": 13,
   "id": "0efa85eb",
   "metadata": {},
   "outputs": [],
   "source": [
    "tuner = RandomSearch(\n",
    "    build_model,\n",
    "    objective='val_accuracy',\n",
    "    max_trials=5,\n",
    "    # executions_per_trial=2,\n",
    "    directory='my_mnist_tuning',\n",
    "    project_name='mnist_mlp_tuning'\n",
    ")"
   ]
  },
  {
   "cell_type": "code",
   "execution_count": 14,
   "id": "86fecfbd",
   "metadata": {},
   "outputs": [
    {
     "name": "stdout",
     "output_type": "stream",
     "text": [
      "Trial 5 Complete [00h 04m 59s]\n",
      "val_accuracy: 0.9860000014305115\n",
      "\n",
      "Best val_accuracy So Far: 0.9860000014305115\n",
      "Total elapsed time: 00h 17m 08s\n"
     ]
    }
   ],
   "source": [
    "early_stopping_cb_tuned = keras.callbacks.EarlyStopping(patience=10)\n",
    "checkpoint_cb_tuned = keras.callbacks.ModelCheckpoint(\"my_mnist_tuned_model.h5\", save_best_only=True)\n",
    "\n",
    "tuner.search(X_train, y_train,\n",
    "             epochs=30,\n",
    "             validation_data=(X_valid, y_valid),\n",
    "             callbacks=[checkpoint_cb_tuned, early_stopping_cb_tuned])\n"
   ]
  },
  {
   "cell_type": "code",
   "execution_count": 15,
   "id": "aa02eec1",
   "metadata": {},
   "outputs": [
    {
     "name": "stdout",
     "output_type": "stream",
     "text": [
      "Results summary\n",
      "Results in my_mnist_tuning\\mnist_mlp_tuning\n",
      "Showing 5 best trials\n",
      "Objective(name=\"val_accuracy\", direction=\"max\")\n",
      "\n",
      "Trial 4 summary\n",
      "Hyperparameters:\n",
      "num_layers: 2\n",
      "units_0: 448\n",
      "dropout_0: 0.2\n",
      "learning_rate: 0.06026357212777736\n",
      "units_1: 256\n",
      "dropout_1: 0.2\n",
      "Score: 0.9860000014305115\n",
      "\n",
      "Trial 3 summary\n",
      "Hyperparameters:\n",
      "num_layers: 2\n",
      "units_0: 192\n",
      "dropout_0: 0.2\n",
      "learning_rate: 0.1516688910950039\n",
      "units_1: 320\n",
      "dropout_1: 0.1\n",
      "Score: 0.9855999946594238\n",
      "\n",
      "Trial 0 summary\n",
      "Hyperparameters:\n",
      "num_layers: 1\n",
      "units_0: 512\n",
      "dropout_0: 0.2\n",
      "learning_rate: 0.11946284117592294\n",
      "Score: 0.9847999811172485\n",
      "\n",
      "Trial 2 summary\n",
      "Hyperparameters:\n",
      "num_layers: 2\n",
      "units_0: 128\n",
      "dropout_0: 0.2\n",
      "learning_rate: 0.020028127289526177\n",
      "units_1: 128\n",
      "dropout_1: 0.1\n",
      "Score: 0.9836000204086304\n",
      "\n",
      "Trial 1 summary\n",
      "Hyperparameters:\n",
      "num_layers: 1\n",
      "units_0: 128\n",
      "dropout_0: 0.1\n",
      "learning_rate: 0.2635060278624139\n",
      "Score: 0.982200026512146\n"
     ]
    }
   ],
   "source": [
    "tuner.results_summary(num_trials=5)"
   ]
  },
  {
   "cell_type": "markdown",
   "id": "03142551",
   "metadata": {},
   "source": [
    "# Analyze the Tuning Results:"
   ]
  },
  {
   "cell_type": "code",
   "execution_count": 16,
   "id": "4b556923",
   "metadata": {},
   "outputs": [
    {
     "name": "stdout",
     "output_type": "stream",
     "text": [
      "313/313 [==============================] - 1s 4ms/step - loss: 0.0596 - accuracy: 0.9836\n",
      "Test accuracy: 98.36%\n",
      "Test loss: 0.05957\n"
     ]
    }
   ],
   "source": [
    "model_tuned_test = tuner.get_best_models(num_models=1)[0]\n",
    "test_loss_tuned, test_accuracy_tuned = model_tuned_test.evaluate(X_test, y_test)\n",
    "print(f\"Test accuracy: {test_accuracy_tuned*100:.2f}%\")\n",
    "print(f\"Test loss: {test_loss_tuned:.5f}\")"
   ]
  },
  {
   "cell_type": "code",
   "execution_count": 17,
   "id": "b17e76cd",
   "metadata": {},
   "outputs": [
    {
     "name": "stdout",
     "output_type": "stream",
     "text": [
      "Best Hyperparameters:\n",
      "num_layers: 2\n",
      "units_0: 448\n",
      "dropout_0: 0.2\n",
      "learning_rate: 0.06026357212777736\n",
      "units_1: 256\n",
      "dropout_1: 0.2\n"
     ]
    }
   ],
   "source": [
    "best_hp = tuner.get_best_hyperparameters(num_trials=1)[0]\n",
    "\n",
    "print(\"Best Hyperparameters:\")\n",
    "for param in best_hp.values:\n",
    "    print(f\"{param}: {best_hp.get(param)}\")\n"
   ]
  },
  {
   "cell_type": "code",
   "execution_count": null,
   "id": "e2462132",
   "metadata": {},
   "outputs": [
    {
     "name": "stdout",
     "output_type": "stream",
     "text": [
      "Epoch 1/30\n",
      "1719/1719 [==============================] - 12s 7ms/step - loss: 0.3486 - accuracy: 0.8962 - val_loss: 0.1464 - val_accuracy: 0.9604\n",
      "Epoch 2/30\n",
      "1719/1719 [==============================] - 12s 7ms/step - loss: 0.1597 - accuracy: 0.9523 - val_loss: 0.1051 - val_accuracy: 0.9670\n",
      "Epoch 3/30\n",
      "1719/1719 [==============================] - 12s 7ms/step - loss: 0.1176 - accuracy: 0.9646 - val_loss: 0.0854 - val_accuracy: 0.9750\n",
      "Epoch 4/30\n",
      "1719/1719 [==============================] - 12s 7ms/step - loss: 0.0925 - accuracy: 0.9722 - val_loss: 0.0742 - val_accuracy: 0.9794\n",
      "Epoch 5/30\n",
      "1719/1719 [==============================] - 11s 6ms/step - loss: 0.0775 - accuracy: 0.9771 - val_loss: 0.0665 - val_accuracy: 0.9802\n",
      "Epoch 6/30\n",
      "1719/1719 [==============================] - 12s 7ms/step - loss: 0.0641 - accuracy: 0.9803 - val_loss: 0.0622 - val_accuracy: 0.9826\n",
      "Epoch 7/30\n",
      "1719/1719 [==============================] - 15s 9ms/step - loss: 0.0565 - accuracy: 0.9823 - val_loss: 0.0643 - val_accuracy: 0.9810\n",
      "Epoch 8/30\n",
      "1719/1719 [==============================] - 11s 6ms/step - loss: 0.0493 - accuracy: 0.9845 - val_loss: 0.0656 - val_accuracy: 0.9808\n",
      "Epoch 9/30\n",
      "1719/1719 [==============================] - 9s 5ms/step - loss: 0.0414 - accuracy: 0.9865 - val_loss: 0.0621 - val_accuracy: 0.9820\n",
      "Epoch 10/30\n",
      "1719/1719 [==============================] - 13s 7ms/step - loss: 0.0382 - accuracy: 0.9877 - val_loss: 0.0565 - val_accuracy: 0.9826\n",
      "Epoch 11/30\n",
      "1719/1719 [==============================] - 13s 8ms/step - loss: 0.0325 - accuracy: 0.9895 - val_loss: 0.0619 - val_accuracy: 0.9828\n",
      "Epoch 12/30\n",
      "1719/1719 [==============================] - 15s 8ms/step - loss: 0.0293 - accuracy: 0.9909 - val_loss: 0.0570 - val_accuracy: 0.9836\n",
      "Epoch 13/30\n",
      "1719/1719 [==============================] - 11s 6ms/step - loss: 0.0267 - accuracy: 0.9914 - val_loss: 0.0554 - val_accuracy: 0.9836\n",
      "Epoch 14/30\n",
      "1719/1719 [==============================] - 11s 6ms/step - loss: 0.0257 - accuracy: 0.9919 - val_loss: 0.0600 - val_accuracy: 0.9846\n",
      "Epoch 15/30\n",
      "1719/1719 [==============================] - 11s 6ms/step - loss: 0.0230 - accuracy: 0.9928 - val_loss: 0.0609 - val_accuracy: 0.9826\n",
      "Epoch 16/30\n",
      "1719/1719 [==============================] - 12s 7ms/step - loss: 0.0207 - accuracy: 0.9933 - val_loss: 0.0569 - val_accuracy: 0.9838\n",
      "Epoch 17/30\n",
      "1719/1719 [==============================] - 12s 7ms/step - loss: 0.0195 - accuracy: 0.9939 - val_loss: 0.0608 - val_accuracy: 0.9828\n",
      "Epoch 18/30\n",
      "1719/1719 [==============================] - 11s 7ms/step - loss: 0.0161 - accuracy: 0.9949 - val_loss: 0.0608 - val_accuracy: 0.9854\n",
      "Epoch 19/30\n",
      "1719/1719 [==============================] - 11s 6ms/step - loss: 0.0161 - accuracy: 0.9950 - val_loss: 0.0581 - val_accuracy: 0.9846\n",
      "Epoch 20/30\n",
      "1719/1719 [==============================] - 11s 6ms/step - loss: 0.0143 - accuracy: 0.9953 - val_loss: 0.0607 - val_accuracy: 0.9840\n",
      "Epoch 21/30\n",
      "1719/1719 [==============================] - 18s 10ms/step - loss: 0.0135 - accuracy: 0.9958 - val_loss: 0.0565 - val_accuracy: 0.9856\n",
      "Epoch 22/30\n",
      "1719/1719 [==============================] - 14s 8ms/step - loss: 0.0150 - accuracy: 0.9952 - val_loss: 0.0585 - val_accuracy: 0.9844\n",
      "Epoch 23/30\n",
      "1719/1719 [==============================] - 14s 8ms/step - loss: 0.0109 - accuracy: 0.9968 - val_loss: 0.0616 - val_accuracy: 0.9842\n",
      "313/313 [==============================] - 3s 10ms/step - loss: 0.0596 - accuracy: 0.9832\n",
      "Best Validation Accuracy from History: 0.99\n",
      "Test Accuracy: 0.98\n",
      "Test Loss: 0.05956\n",
      "Total Evaluation Time: 286.46 seconds\n"
     ]
    }
   ],
   "source": [
    "import time\n",
    "\n",
    "best_model = build_model(best_hp)\n",
    "start_time = time.time()\n",
    "history = best_model.fit(\n",
    "    X_train, y_train,\n",
    "    epochs=30,\n",
    "    validation_data=(X_valid, y_valid),\n",
    "    callbacks=[checkpoint_cb_tuned, early_stopping_cb_tuned]\n",
    ")\n",
    "\n",
    "test_loss, test_accuracy = best_model.evaluate(X_test, y_test)\n",
    "end_time = time.time()\n",
    "\n",
    "training_time = end_time - start_time\n",
    "\n",
    "print(f\"Best Validation Accuracy from History: {max(history.history['val_accuracy']):.4f}\")\n",
    "print(f\"Test Accuracy: {test_accuracy:.4f}\")\n",
    "print(f\"Test Loss: {test_loss:.5f}\")\n",
    "print(f\"Total Evaluation Time: {training_time:.2f} seconds\")"
   ]
  },
  {
   "cell_type": "code",
   "execution_count": 34,
   "id": "067103ca",
   "metadata": {},
   "outputs": [
    {
     "data": {
      "image/png": "[encoded data removed]",
      "text/plain": [
       "<Figure size 700x400 with 1 Axes>"
      ]
     },
     "metadata": {},
     "output_type": "display_data"
    }
   ],
   "source": [
    "# Plot accuracy over epochs\n",
    "plt.figure(figsize=(7, 4))\n",
    "plt.plot(history.history['accuracy'], label='Training Accuracy')\n",
    "plt.plot(history.history['val_accuracy'], label='Validation Accuracy')\n",
    "plt.xlabel('Epochs')\n",
    "plt.xlim(0,20)\n",
    "plt.ylabel('Accuracy')\n",
    "#plt.title('Training and Validation Accuracy Over Epochs')\n",
    "plt.legend()\n",
    "plt.show()"
   ]
  },
  {
   "cell_type": "code",
   "execution_count": 35,
   "id": "aafb63b7",
   "metadata": {},
   "outputs": [
    {
     "data": {
      "image/png": "[encoded data removed]",
      "text/plain": [
       "<Figure size 700x400 with 1 Axes>"
      ]
     },
     "metadata": {},
     "output_type": "display_data"
    }
   ],
   "source": [
    "# Plot loss over epochs\n",
    "plt.figure(figsize=(7, 4))\n",
    "plt.plot(history.history['loss'], label='Training Loss')\n",
    "plt.plot(history.history['val_loss'], label='Validation Loss')\n",
    "plt.xlabel('Epochs')\n",
    "plt.xlim(0,20)\n",
    "plt.ylabel('Loss')\n",
    "#plt.title('Training and Validation Loss Over Epochs')\n",
    "plt.legend()\n",
    "plt.show()"
   ]
  },
  {
   "cell_type": "code",
   "execution_count": 21,
   "id": "26bc5fd1",
   "metadata": {},
   "outputs": [
    {
     "data": {
      "image/png": "[encoded data removed]",
      "text/plain": [
       "<Figure size 600x400 with 1 Axes>"
      ]
     },
     "metadata": {},
     "output_type": "display_data"
    }
   ],
   "source": [
    "metrics = ['Best Validation Accuracy', 'Test Accuracy']\n",
    "best_val_accuracy = max(history.history['val_accuracy'])\n",
    "values = [best_val_accuracy, test_accuracy]\n",
    "\n",
    "plt.figure(figsize=(6, 4))\n",
    "plt.bar(metrics, values, color=['blue', 'orange'])\n",
    "plt.ylim(0.9, 1)  # Set limits for better comparison\n",
    "plt.ylabel('Accuracy')\n",
    "#plt.title('Best Model Accuracy Comparison')\n",
    "plt.show()\n"
   ]
  },
  {
   "cell_type": "code",
   "execution_count": 22,
   "id": "b46d94cf",
   "metadata": {},
   "outputs": [
    {
     "name": "stdout",
     "output_type": "stream",
     "text": [
      "Total Training Time for Best Model: 4.77 minutes\n"
     ]
    }
   ],
   "source": [
    "print(f\"Total Training Time for Best Model: {training_time/60 :.2f} minutes\")"
   ]
  }
 ],
 "metadata": {
  "kernelspec": {
   "display_name": "Python 3",
   "language": "python",
   "name": "python3"
  },
  "language_info": {
   "codemirror_mode": {
    "name": "ipython",
    "version": 3
   },
   "file_extension": ".py",
   "mimetype": "text/x-python",
   "name": "python",
   "nbconvert_exporter": "python",
   "pygments_lexer": "ipython3",
   "version": "3.8.0"
  }
 },
 "nbformat": 4,
 "nbformat_minor": 5
}
